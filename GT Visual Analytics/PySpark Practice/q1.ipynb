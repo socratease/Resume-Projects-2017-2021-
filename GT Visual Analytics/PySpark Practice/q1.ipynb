{
 "cells": [
  {
   "cell_type": "markdown",
   "metadata": {},
   "source": [
    "# HW3 - Q1 [15 pts]\n",
    "\n",
    "\n",
    "\n",
    "## Important Notices\n",
    "\n",
    "<div class=\"alert alert-block alert-danger\">\n",
    "    WARNING: Do <strong>NOT</strong> add any cells to this Jupyter Notebook, because that will crash the autograder.\n",
    "</div>\n",
    "\n",
    "\n",
    "All instructions, code comments, etc. in this notebook **are part of the assignment instructions**. That is, if there is instructions about completing a task in this notebook, that task is not optional.  \n",
    "\n",
    "\n",
    "\n",
    "<div class=\"alert alert-block alert-info\">\n",
    "    You <strong>must</strong> implement the following functions in this notebook to receive credit.\n",
    "</div>\n",
    "\n",
    "\n",
    "`user()`\n",
    "\n",
    "`clean_data()`\n",
    "\n",
    "`common_pair()`\n",
    "\n",
    "`time_of_cheapest_fare()`\n",
    "\n",
    "`passenger_count_for_most_tip()`\n",
    "\n",
    "`day_with_traffic()`\n",
    "\n",
    "\n",
    "\n",
    "Each method will be auto-graded using different sets of parameters or data, to ensure that values are not hard-coded. You may assume we will only use your code to work with data from the NYC-TLC dataset during auto-grading. \n",
    "\n",
    "### Helper functions\n",
    "\n",
    "You are permitted to write additional helper functions, or use additional instance variables so long as the previously described functions work as required.\n",
    "\n",
    "<div class=\"alert alert-block alert-danger\">\n",
    "    WARNING: Do <strong>NOT</strong> remove or modify the following utility functions:\n",
    "</div>\n",
    "\n",
    "`load_data()`"
   ]
  },
  {
   "cell_type": "markdown",
   "metadata": {},
   "source": [
    "#### Pyspark Imports\n",
    "<span style=\"color:red\">*Please don't modify the below cell*</span>"
   ]
  },
  {
   "cell_type": "code",
   "execution_count": 1,
   "metadata": {},
   "outputs": [],
   "source": [
    "import pyspark\n",
    "from pyspark.sql import SQLContext\n",
    "from pyspark.sql.functions import hour, when, col, date_format, to_timestamp"
   ]
  },
  {
   "cell_type": "markdown",
   "metadata": {},
   "source": [
    "#### Define Spark Context\n",
    "<span style=\"color:red\">*Please don't modify the below cell*</span>"
   ]
  },
  {
   "cell_type": "code",
   "execution_count": 2,
   "metadata": {},
   "outputs": [],
   "source": [
    "sc = pyspark.SparkContext(appName=\"HW3-Q1\")\n",
    "sqlContext = SQLContext(sc)"
   ]
  },
  {
   "cell_type": "markdown",
   "metadata": {},
   "source": [
    "#### Function to load data\n",
    "\n",
    "<span style=\"color:red\">*Please don't modify the below cell*</span>"
   ]
  },
  {
   "cell_type": "code",
   "execution_count": 52,
   "metadata": {},
   "outputs": [],
   "source": [
    "def load_data():\n",
    "    df = sqlContext.read.option(\"header\",True).csv(\"yellow_tripdata_2019-01_short.csv\")\n",
    "    return df"
   ]
  },
  {
   "cell_type": "code",
   "execution_count": 49,
   "metadata": {},
   "outputs": [
    {
     "name": "stdout",
     "output_type": "stream",
     "text": [
      "root\n",
      " |-- VendorID: string (nullable = true)\n",
      " |-- tpep_pickup_datetime: string (nullable = true)\n",
      " |-- tpep_dropoff_datetime: string (nullable = true)\n",
      " |-- passenger_count: string (nullable = true)\n",
      " |-- trip_distance: string (nullable = true)\n",
      " |-- RatecodeID: string (nullable = true)\n",
      " |-- store_and_fwd_flag: string (nullable = true)\n",
      " |-- PULocationID: string (nullable = true)\n",
      " |-- DOLocationID: string (nullable = true)\n",
      " |-- payment_type: string (nullable = true)\n",
      " |-- fare_amount: string (nullable = true)\n",
      " |-- extra: string (nullable = true)\n",
      " |-- mta_tax: string (nullable = true)\n",
      " |-- tip_amount: string (nullable = true)\n",
      " |-- tolls_amount: string (nullable = true)\n",
      " |-- improvement_surcharge: string (nullable = true)\n",
      " |-- total_amount: string (nullable = true)\n",
      " |-- congestion_surcharge: string (nullable = true)\n",
      "\n"
     ]
    }
   ],
   "source": [
    "df = load_data()\n",
    "df.printSchema()"
   ]
  },
  {
   "cell_type": "markdown",
   "metadata": {},
   "source": [
    "# Implement the functions below for this assignment:"
   ]
  },
  {
   "cell_type": "markdown",
   "metadata": {},
   "source": [
    "## 1. Update the `user()` function\n",
    "This function should return your GT username, eg: gburdell3"
   ]
  },
  {
   "cell_type": "code",
   "execution_count": null,
   "metadata": {},
   "outputs": [],
   "source": [
    "def user():\n",
    "    \"\"\"\n",
    "    :return: string\n",
    "    your GTUsername, NOT your 9-Digit GTId  \n",
    "    \"\"\"  \n",
    "    return 'cgraves36'"
   ]
  },
  {
   "cell_type": "markdown",
   "metadata": {},
   "source": [
    "## 1a. [1 pts] Casting the columns into correct types\n",
    "\n",
    "To process the data accurately, cast the following columns into given data type: \n",
    "\n",
    "- `passenger_count` - integer \n",
    "- `total_amount` - float \n",
    "- `tip_amount` - float\n",
    "- `trip_distance` - float \n",
    "- `fare_amount` - float \n",
    "- `tpep_pickup_datetime` - timestamp \n",
    "- `tpep_dropoff_datetime` - timestamp \n",
    "\n",
    "All of the columns in the original data should be returned with the above columns converted to the correct data type."
   ]
  },
  {
   "cell_type": "code",
   "execution_count": 55,
   "metadata": {},
   "outputs": [],
   "source": [
    "def clean_data(df):\n",
    "    '''\n",
    "    input: df a dataframe\n",
    "    output: df a dataframe with the all the original columns\n",
    "    '''\n",
    "    sqlContext.registerDataFrameAsTable(df, \"trips\")\n",
    "    df = sqlContext.sql(\"\"\"\n",
    "    SELECT \n",
    "    VendorID\n",
    "    , RatecodeID\n",
    "    , store_and_fwd_flag\n",
    "    , PULocationID\n",
    "    , DOLocationID\n",
    "    , payment_type\n",
    "    , extra\n",
    "    , mta_tax\n",
    "    , tolls_amount\n",
    "    , improvement_surcharge\n",
    "    , congestion_surcharge\n",
    "    , CAST(passenger_count as float)\n",
    "    , CAST(total_amount as float)\n",
    "    , CAST(tip_amount as float)\n",
    "    , CAST(trip_distance as float)\n",
    "    , CAST(fare_amount as float)\n",
    "    , CAST(tpep_pickup_datetime as timestamp)\n",
    "    , CAST(tpep_dropoff_datetime as timestamp)\n",
    "    from trips\n",
    "    \"\"\")\n",
    "    # START YOUR CODE HERE ---------\n",
    "\n",
    "    # END YOUR CODE HERE -----------\n",
    "    return df"
   ]
  },
  {
   "cell_type": "code",
   "execution_count": 56,
   "metadata": {},
   "outputs": [
    {
     "name": "stdout",
     "output_type": "stream",
     "text": [
      "root\n",
      " |-- passenger_count: float (nullable = true)\n",
      " |-- total_amount: float (nullable = true)\n",
      " |-- tip_amount: float (nullable = true)\n",
      " |-- trip_distance: float (nullable = true)\n",
      " |-- fare_amount: float (nullable = true)\n",
      " |-- tpep_pickup_datetime: timestamp (nullable = true)\n",
      " |-- tpep_pickup_datetime: timestamp (nullable = true)\n",
      "\n"
     ]
    }
   ],
   "source": [
    "df = clean_data()\n",
    "df.select(['passenger_count', 'total_amount', 'tip_amount', 'trip_distance', 'fare_amount', 'tpep_pickup_datetime', 'tpep_pickup_datetime']).printSchema()"
   ]
  },
  {
   "cell_type": "markdown",
   "metadata": {},
   "source": [
    "## 1b. [4 pts] What are the top 10 pickup-dropoff locations?\n",
    "\n",
    "Find the top 10 pickup-dropoff location pairs having the most number of trips (`count`). The location pairs should be ordered by `count` in descending order. If two or more pairs have the same number of trips, break the tie using the trip amount per distance travelled (`trip_rate`). Use columns `total_amount` and `trip_distance` to calculate the trip amount per distance. In certain situations, the pickup and dropoff locations may be the same.\n",
    "\n",
    "Example output showing expected formatting:\n",
    "\n",
    "```\n",
    "+------------+------------+-----+------------------+\n",
    "|PULocationID|DOLocationID|count|         trip_rate|\n",
    "+------------+------------+-----+------------------+\n",
    "|           5|           7|   24| 5.148195749283391|\n",
    "|           6|           4|   19| 1.420958193039484|\n",
    "|           3|           2|   15|9.1928382713049282|\n",
    "|           8|           8|   14|5.1029384838178493|\n",
    "|           1|           3|    9|7.4403919838271223|\n",
    "|           9|           2|    9|4.4039182884283829|\n",
    "|           5|           7|    6|  5.19283827172823|\n",
    "|           2|           1|    5| 9.233738511638532|\n",
    "|           1|           9|    3| 8.293827128489212|\n",
    "|           6|           6|    1| 4.192847382919223|\n",
    "+------------+------------+-----+------------------+\n",
    "```"
   ]
  },
  {
   "cell_type": "code",
   "execution_count": 59,
   "metadata": {},
   "outputs": [],
   "source": [
    "def common_pair(df):\n",
    "    '''\n",
    "    \n",
    "    input: df a dataframe\n",
    "    output: df a dataframe with following columns:\n",
    "            - PULocationID\n",
    "            - DOLocationID\n",
    "            - count\n",
    "            - trip_rate\n",
    "            \n",
    "    trip_rate is the average amount (total_amount) per distance (trip_distance)\n",
    "    \n",
    "    '''\n",
    "    \n",
    "    # START YOUR CODE HERE ---------\n",
    "    df = clean_data(df)\n",
    "    df = sqlContext.sql(\"\"\"\n",
    "    SELECT\n",
    "    PULocationID\n",
    "    , DOLocationID\n",
    "    , avg(total_amount) / avg(trip_distance) as trip_rate\n",
    "    , count(*) as count    \n",
    "    FROM trips\n",
    "    GROUP BY PULocationID, DOLocationID\n",
    "    ORDER BY count desc, trip_rate desc\n",
    "    \"\"\")\n",
    "    \n",
    "    # END YOUR CODE HERE -----------\n",
    "    \n",
    "    return df"
   ]
  },
  {
   "cell_type": "code",
   "execution_count": 62,
   "metadata": {},
   "outputs": [
    {
     "name": "stdout",
     "output_type": "stream",
     "text": [
      "+------------+------------+------------------+-----+\n",
      "|PULocationID|DOLocationID|         trip_rate|count|\n",
      "+------------+------------+------------------+-----+\n",
      "|         264|         264| 5.482259531398455|   97|\n",
      "|         239|         238| 8.395489315120459|   34|\n",
      "|         237|         236|7.1150794250423965|   34|\n",
      "|         236|         236|12.230708730972086|   24|\n",
      "|          79|          79|10.641212116864102|   23|\n",
      "|         142|         239|10.056728351507015|   23|\n",
      "|         148|          79|  9.72959679025766|   23|\n",
      "|         263|         141| 7.301437441278104|   23|\n",
      "|         141|         263| 6.897755674061171|   22|\n",
      "|         170|         170| 9.681594815392343|   21|\n",
      "|         107|         170| 9.472641567842377|   21|\n",
      "|          68|          68|22.451782071260844|   20|\n",
      "|          79|         148| 9.668415023282769|   20|\n",
      "|         239|         143| 8.677882093175466|   20|\n",
      "|         141|         141|  7.27557416883479|   19|\n",
      "|         239|         151| 7.063166915996227|   19|\n",
      "|         142|         238| 6.400649402668955|   19|\n",
      "|         237|         237|10.201154242956676|   18|\n",
      "|         263|         263| 9.890207753110046|   18|\n",
      "|         141|         236| 7.842335733531613|   18|\n",
      "+------------+------------+------------------+-----+\n",
      "only showing top 20 rows\n",
      "\n"
     ]
    },
    {
     "data": {
      "text/plain": [
       "Row(VendorID='1', RatecodeID='1', store_and_fwd_flag='N', PULocationID='151', DOLocationID='239', payment_type='1', extra='0.5', mta_tax='0.5', tolls_amount='0', improvement_surcharge='0.3', congestion_surcharge=None, passenger_count=1.0, total_amount=9.949999809265137, tip_amount=1.649999976158142, trip_distance=1.5, fare_amount=7.0, tpep_pickup_datetime=datetime.datetime(2019, 1, 1, 0, 46, 40), tpep_dropoff_datetime=datetime.datetime(2019, 1, 1, 0, 53, 20))"
      ]
     },
     "execution_count": 62,
     "metadata": {},
     "output_type": "execute_result"
    }
   ],
   "source": [
    "common_pair(df).show()\n",
    "df.head()"
   ]
  },
  {
   "cell_type": "markdown",
   "metadata": {},
   "source": [
    "## 1c. [4 pts] When is the trip cheapest (day vs night) ?\n",
    "\n",
    "Divide each day into two parts: Day (from 9am to 8:59:59pm), and Night (from 9pm to 8:59:59am) and find the average total amount per unit distance travelled (use column `total_amount`) for both time periods. Sort the result by `trip_rate` in ascending order to find when the fare rate is cheapest.\n",
    "\n",
    "Example output showing expected formatting:\n",
    "```\n",
    "+---------+-----------------+\n",
    "|day_night|        trip_rate|\n",
    "+---------+-----------------+\n",
    "|      Day|2.391827482920123|\n",
    "|    Night|4.292818223839121|\n",
    "+---------+-----------------+\n",
    "```"
   ]
  },
  {
   "cell_type": "code",
   "execution_count": 67,
   "metadata": {},
   "outputs": [],
   "source": [
    "def time_of_cheapest_fare(df):\n",
    "    '''\n",
    "    input: df a dataframe\n",
    "    output: df a dataframe with following columns:\n",
    "            - day_night\n",
    "            - trip_rate\n",
    "    \n",
    "    day_night will have 'Day' or 'Night' based on following conditions:\n",
    "        - From 9am to 8:59:59pm - Day\n",
    "        - From 9pm to 8:59:59am - Night\n",
    "            \n",
    "    trip_rate is the average amount (total_amount) per distance\n",
    "    \n",
    "    '''\n",
    "    \n",
    "    # START YOUR CODE HERE ---------\n",
    "    df = clean_data(df)\n",
    "    df = sqlContext.sql(\"\"\"\n",
    "    WITH pre AS (    \n",
    "        SELECT\n",
    "        CASE\n",
    "            WHEN hour(tpep_pickup_datetime) >= 9 AND hour(tpep_pickup_datetime) < 18\n",
    "                THEN \"Day\" ELSE \"Night\" END as day_night\n",
    "        , total_amount\n",
    "        , trip_distance\n",
    "        FROM trips)\n",
    "    \n",
    "    SELECT day_night\n",
    "    , avg(total_amount) / avg(trip_distance) as trip_rate\n",
    "    FROM pre\n",
    "    GROUP BY day_night\n",
    "    ORDER BY trip_rate asc\n",
    "    \"\"\")\n",
    "    \n",
    "    \n",
    "    # END YOUR CODE HERE -----------\n",
    "    \n",
    "    return df"
   ]
  },
  {
   "cell_type": "code",
   "execution_count": 68,
   "metadata": {},
   "outputs": [
    {
     "name": "stdout",
     "output_type": "stream",
     "text": [
      "+---------+-----------------+\n",
      "|day_night|        trip_rate|\n",
      "+---------+-----------------+\n",
      "|    Night|5.535675634097196|\n",
      "|      Day| 9.46837480279554|\n",
      "+---------+-----------------+\n",
      "\n"
     ]
    }
   ],
   "source": [
    "time_of_cheapest_fare(df).show()"
   ]
  },
  {
   "cell_type": "markdown",
   "metadata": {},
   "source": [
    "## 1d. [3 pts] Which passenger group size gives the most tips?\n",
    "\n",
    "Filter the data for trips having fares (`fare_amount`) greater than $2 and the number of passengers (`passenger_count`) greater than 0. Find the average fare and tip (`tip_amount`) for all passenger group sizes and calculate the tip percent (`tip_amount * 100 / fare_amount`). Sort by the tip percent in descending order to get which group size tips most generously.\n",
    "\n",
    "Example output showing expected formatting:\n",
    "```\n",
    "+---------------+------------------+\n",
    "|passenger_count|       tip_percent|\n",
    "+---------------+------------------+\n",
    "|              4|20.129473829283771|\n",
    "|              2|16.203913838738283|\n",
    "|              3|14.283814930283822|\n",
    "|              1|13.393817383918287|\n",
    "|              6| 12.73928273747182|\n",
    "|              5|12.402938192848471|\n",
    "+---------------+------------------+\n",
    "```"
   ]
  },
  {
   "cell_type": "code",
   "execution_count": 71,
   "metadata": {},
   "outputs": [],
   "source": [
    "def passenger_count_for_most_tip(df):\n",
    "    '''\n",
    "    input: df a dataframe\n",
    "    output: df a dataframe with following columns:\n",
    "            - passenger_count\n",
    "            - tip_percent\n",
    "            \n",
    "    trip_percent is the percent of tip out of fare_amount\n",
    "    \n",
    "    '''\n",
    "    \n",
    "    # START YOUR CODE HERE ---------\n",
    "    df = clean_data(df)\n",
    "    df = sqlContext.sql(\"\"\"\n",
    "    WITH pre2 AS (    \n",
    "        SELECT\n",
    "        passenger_count,\n",
    "        fare_amount,\n",
    "        tip_amount\n",
    "        FROM trips\n",
    "        WHERE fare_amount > 2\n",
    "        AND passenger_count > 0)\n",
    "    \n",
    "    SELECT\n",
    "    passenger_count\n",
    "    , avg(tip_amount) * 100 / avg(fare_amount) as tip_percent\n",
    "    FROM pre2\n",
    "    GROUP BY passenger_count\n",
    "    ORDER BY tip_percent desc\n",
    "    \"\"\")\n",
    "    \n",
    "    # END YOUR CODE HERE -----------\n",
    "    \n",
    "    return df"
   ]
  },
  {
   "cell_type": "code",
   "execution_count": 72,
   "metadata": {},
   "outputs": [
    {
     "name": "stdout",
     "output_type": "stream",
     "text": [
      "+---------------+------------------+\n",
      "|passenger_count|       tip_percent|\n",
      "+---------------+------------------+\n",
      "|            2.0|14.406226490643459|\n",
      "|            5.0|14.347176091134632|\n",
      "|            1.0|13.816545488299298|\n",
      "|            4.0|13.232489331848662|\n",
      "|            3.0| 13.11005447222511|\n",
      "|            6.0|13.096846913969197|\n",
      "+---------------+------------------+\n",
      "\n"
     ]
    }
   ],
   "source": [
    "passenger_count_for_most_tip(df).show()"
   ]
  },
  {
   "cell_type": "markdown",
   "metadata": {},
   "source": [
    "## 1e. [3 pts] Which day of week has the most traffic?\n",
    "\n",
    "Sort the days of the week based on traffic, with the day having the highest traffic on the top. You can estimate traffic on the day of the week based on the average speed of all taxi trips on that day of the week. (Speed can be calculated by using the trip time and trip distance. Make sure to print speed in distance / hour). If the `average_speed` is the same for two or more days, the days should be ordered alphabetically. A day with a low average speed indicates high levels of traffic. The average speed may be 0 indicating very high levels of traffic. Not all days of the week may be present. You should use `date_format` along with the appropriate [pattern letters](https://spark.apache.org/docs/latest/sql-ref-datetime-pattern.html) to format the day of the week.\n",
    "\n",
    "Example output showing expected formatting:\n",
    "```\n",
    "+-----------+------------------+\n",
    "|day_of_week|     average_speed|\n",
    "+-----------+------------------+\n",
    "|        Sat|               0.0|\n",
    "|        Tue|               0.0|\n",
    "|        Fri|7.2938133827293934|\n",
    "|        Mon|10.123938472718228|\n",
    "+-----------+------------------+\n",
    "```"
   ]
  },
  {
   "cell_type": "code",
   "execution_count": 103,
   "metadata": {},
   "outputs": [],
   "source": [
    "def day_with_traffic(df):\n",
    "    '''\n",
    "    input: df a dataframe\n",
    "    output: df a dataframe with following columns:\n",
    "            - day_of_week\n",
    "            - average_speed\n",
    "    \n",
    "    day_of_week should be day of week e.g.) Mon, Tue, Wed, ...\n",
    "    average_speed (miles/hour) is calculated as distance / time (in hours)\n",
    "    \n",
    "    '''\n",
    "    \n",
    "    # START YOUR CODE HERE ---------\n",
    "    df = clean_data(df)\n",
    "    df = sqlContext.sql(\"\"\"\n",
    "    WITH pre3 AS (    \n",
    "        SELECT\n",
    "        (unix_timestamp(tpep_dropoff_datetime) - unix_timestamp(tpep_pickup_datetime)) / 3600 as trip_time\n",
    "        , trip_distance\n",
    "        , date_format(tpep_pickup_datetime, \"E\") as day_of_week\n",
    "        FROM trips)\n",
    "    \n",
    "    SELECT day_of_week\n",
    "    --, avg(trip_time)\n",
    "    , avg(trip_distance) / avg(trip_time) as average_speed\n",
    "    FROM pre3\n",
    "    GROUP BY day_of_week\n",
    "    ORDER BY average_speed asc, day_of_week asc\n",
    "    \"\"\")\n",
    "    \n",
    "    # END YOUR CODE HERE -----------\n",
    "    \n",
    "    return df"
   ]
  },
  {
   "cell_type": "code",
   "execution_count": 104,
   "metadata": {},
   "outputs": [
    {
     "name": "stdout",
     "output_type": "stream",
     "text": [
      "+-----------+------------------+\n",
      "|day_of_week|     average_speed|\n",
      "+-----------+------------------+\n",
      "|        Fri|               0.0|\n",
      "|        Wed|               0.0|\n",
      "|        Mon|1.3578837962634764|\n",
      "|        Tue| 9.383778567443406|\n",
      "+-----------+------------------+\n",
      "\n"
     ]
    }
   ],
   "source": [
    "day_with_traffic(df).show()"
   ]
  }
 ],
 "metadata": {
  "kernelspec": {
   "display_name": "Python 3",
   "language": "python",
   "name": "python3"
  },
  "language_info": {
   "codemirror_mode": {
    "name": "ipython",
    "version": 3
   },
   "file_extension": ".py",
   "mimetype": "text/x-python",
   "name": "python",
   "nbconvert_exporter": "python",
   "pygments_lexer": "ipython3",
   "version": "3.6.9"
  }
 },
 "nbformat": 4,
 "nbformat_minor": 2
}
