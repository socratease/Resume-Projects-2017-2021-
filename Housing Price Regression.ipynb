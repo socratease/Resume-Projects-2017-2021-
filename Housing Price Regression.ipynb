{
 "cells": [
  {
   "cell_type": "markdown",
   "metadata": {},
   "source": [
    "# 1. House price Regression."
   ]
  },
  {
   "cell_type": "markdown",
   "metadata": {},
   "source": [
    "The HOUSES dataset contains a collection of recent real estate listings in San Luis Obispo county and\n",
    "around it. The dataset is provided in RealEstate.csv. You may use “one-hot-keying” to expand the\n",
    "categorical variables.\n",
    "The dataset contains the following useful fields (You may excluding the Location and MLS in your\n",
    "linear regression model).\n",
    "You can use any package for this question.\n",
    "\n",
    "• Price: the most recent listing price of the house (in dollars).\n",
    "\n",
    "• Bedrooms: number of bedrooms.\n",
    "\n",
    "• Bathrooms: number of bathrooms.\n",
    "\n",
    "• Size: size of the house in square feet.\n",
    "\n",
    "• Price/SQ.ft: price of the house per square foot.\n",
    "\n",
    "• Status: Short Sale, Foreclosure and Regular.\n"
   ]
  },
  {
   "cell_type": "code",
   "execution_count": 94,
   "metadata": {},
   "outputs": [],
   "source": [
    "import numpy as np\n",
    "import matplotlib.pyplot as plt\n",
    "import pandas as pd\n",
    "from sklearn.model_selection import train_test_split, GridSearchCV\n",
    "from sklearn.preprocessing import StandardScaler, OneHotEncoder\n",
    "from sklearn.neighbors import KNeighborsClassifier\n",
    "from sklearn.svm import SVC, OneClassSVM\n",
    "from sklearn.gaussian_process import GaussianProcessClassifier\n",
    "from sklearn.gaussian_process.kernels import RBF\n",
    "from sklearn.naive_bayes import GaussianNB\n",
    "from sklearn.linear_model import LogisticRegression, Ridge, Lasso, ElasticNet\n",
    "from sklearn.neural_network import MLPClassifier\n",
    "from sklearn.decomposition import PCA\n",
    "from sklearn.utils.random import sample_without_replacement\n",
    "import warnings\n",
    "from scipy.special import seterr\n",
    "from sklearn.metrics import classification_report, mean_squared_error, f1_score, accuracy_score\n",
    "from sklearn.tree import DecisionTreeClassifier, plot_tree\n",
    "from sklearn.ensemble import RandomForestClassifier\n",
    "\n",
    "import time"
   ]
  },
  {
   "cell_type": "code",
   "execution_count": 97,
   "metadata": {},
   "outputs": [],
   "source": [
    "data = pd.read_csv(\"data/RealEstate.csv\")\n",
    "data.head()\n",
    "data = data.rename(columns={'Price/SQ.Ft': 'PriceSF'})\n",
    "data = data.drop(columns = ['MLS', 'Location'])"
   ]
  },
  {
   "cell_type": "markdown",
   "metadata": {},
   "source": [
    "**(a) Fit the Ridge regression model to predict Price from all variable. You can use one-hot\n",
    "keying to expand the categorical variable Status. Use 5-fold cross validation to select the regularizer optimal parameter, and show the CV curve. Report the fitted model (i.e., the parameters),\n",
    "and the sum-of-squares residuals.**"
   ]
  },
  {
   "cell_type": "code",
   "execution_count": 98,
   "metadata": {},
   "outputs": [],
   "source": [
    "dummied = OneHotEncoder().fit_transform(np.array(data['Status']).reshape(-1,1)).toarray()\n",
    "dummied = pd.DataFrame(dummied).rename(columns = {0:\"Foreclosure\", 1:\"Regular\", 2:\"Short Sale\"})\n",
    "data = pd.concat([data, dummied], axis = 1)\n",
    "y = data[\"Price\"].array\n",
    "data = data.drop(columns = ['Price', 'Status'])\n",
    "X = np.array(data)\n",
    "# X"
   ]
  },
  {
   "cell_type": "code",
   "execution_count": 97,
   "metadata": {},
   "outputs": [
    {
     "name": "stderr",
     "output_type": "stream",
     "text": [
      "C:\\Users\\Owner\\Anaconda3\\lib\\site-packages\\sklearn\\linear_model\\_ridge.py:148: LinAlgWarning: Ill-conditioned matrix (rcond=1.05425e-16): result may not be accurate.\n",
      "  overwrite_a=True).T\n"
     ]
    },
    {
     "name": "stdout",
     "output_type": "stream",
     "text": [
      "Best Parameter: {'alpha': 0.01}\n",
      "Best MSE: -25307474672.308075\n",
      "Best Residual Sum of squares: -19765137719072.605\n"
     ]
    }
   ],
   "source": [
    "ridge = Ridge(normalize = True)\n",
    "modelgrid = GridSearchCV(estimator=ridge, param_grid={'alpha':np.arange(0,10,0.01)}, cv=5, scoring='neg_mean_squared_error')\n",
    "\n",
    "# print(f\"Intercept: {model_grid}\")\n",
    "modelgrid.fit(X,y)\n",
    "\n",
    "print(f\"Best Parameter: {modelgrid.best_params_}\")\n",
    "print(f\"Best MSE: {modelgrid.best_score_}\")\n",
    "print(f\"Best Residual Sum of squares: {modelgrid.best_score_ * len(data)}\")\n",
    "\n",
    "# modelgrid"
   ]
  },
  {
   "cell_type": "code",
   "execution_count": 100,
   "metadata": {},
   "outputs": [
    {
     "name": "stdout",
     "output_type": "stream",
     "text": [
      "Best Ridge Model Intercept: -443198.5169718811\n",
      "Best Ridge Model Coefficients: [-10006.30091368  19114.20456983    245.26000861   1819.45973587\n",
      "  -2198.91109667  28716.79558686 -13053.28576906]\n"
     ]
    }
   ],
   "source": [
    "best = Ridge(normalize = True, alpha = .modelgrid.best_params_['alpha']).fit(X,y)\n",
    "print(f\"Best Ridge Model Intercept: {best.intercept_}\")\n",
    "print(f\"Best Ridge Model Coefficients: {best.coef_}\")"
   ]
  },
  {
   "cell_type": "code",
   "execution_count": 102,
   "metadata": {},
   "outputs": [
    {
     "data": {
      "text/plain": [
       "Text(0.5, 1.0, 'CV Curve')"
      ]
     },
     "execution_count": 102,
     "metadata": {},
     "output_type": "execute_result"
    },
    {
     "data": {
      "image/png": "[encoded data removed]",
      "text/plain": [
       "<Figure size 432x288 with 1 Axes>"
      ]
     },
     "metadata": {
      "needs_background": "light"
     },
     "output_type": "display_data"
    }
   ],
   "source": [
    "plt.plot(modelgrid.cv_results_['param_alpha'], modelgrid.cv_results_['mean_test_score'])\n",
    "plt.xlabel('Regularizer parameter')\n",
    "plt.ylabel('MSE')\n",
    "plt.title(\"CV Curve\")"
   ]
  },
  {
   "cell_type": "markdown",
   "metadata": {},
   "source": [
    "**(b) Use lasso to select variables. Use 5-fold cross validation to select the regularizer optimal\n",
    "parameter, and show the CV curve. Report the fitted model (i.e., the parameters selected and\n",
    "their coefficient). Show the Lasso solution path.**"
   ]
  },
  {
   "cell_type": "code",
   "execution_count": 106,
   "metadata": {
    "scrolled": true
   },
   "outputs": [
    {
     "name": "stdout",
     "output_type": "stream",
     "text": [
      "Best Parameter: {'alpha': 0.01}\n",
      "Best MSE: -25317367531.69432\n",
      "Best Residual Sum of squares: -19772864042253.266\n"
     ]
    }
   ],
   "source": [
    "lasso = Lasso(normalize = True)\n",
    "modelgrid = GridSearchCV(estimator=lasso, param_grid={'alpha':np.arange(0.01,10,0.01)}, cv=5, scoring='neg_mean_squared_error')\n",
    "\n",
    "# print(f\"Intercept: {model_grid}\")\n",
    "modelgrid.fit(X,y)\n",
    "\n",
    "print(f\"Best Parameter: {modelgrid.best_params_}\")\n",
    "print(f\"Best MSE: {modelgrid.best_score_}\")\n",
    "print(f\"Best Residual Sum of squares: {modelgrid.best_score_ * len(data)}\")"
   ]
  },
  {
   "cell_type": "code",
   "execution_count": 107,
   "metadata": {},
   "outputs": [
    {
     "name": "stdout",
     "output_type": "stream",
     "text": [
      "Best Ridge Model Intercept: -453919.8216805881\n",
      "Best Ridge Model Coefficients: [-10944.60538437  15476.89069166    251.00352397   1837.22695388\n",
      "   6261.70770562  34847.54081836  -4261.78467586]\n"
     ]
    }
   ],
   "source": [
    "best = Lasso(normalize = True, alpha = modelgrid.best_params_['alpha']).fit(X,y)\n",
    "print(f\"Best Ridge Model Intercept: {best.intercept_}\")\n",
    "print(f\"Best Ridge Model Coefficients: {best.coef_}\")"
   ]
  },
  {
   "cell_type": "code",
   "execution_count": 108,
   "metadata": {},
   "outputs": [
    {
     "data": {
      "text/plain": [
       "Text(0.5, 1.0, 'CV Curve')"
      ]
     },
     "execution_count": 108,
     "metadata": {},
     "output_type": "execute_result"
    },
    {
     "data": {
      "image/png": "[encoded data removed]",
      "text/plain": [
       "<Figure size 432x288 with 1 Axes>"
      ]
     },
     "metadata": {
      "needs_background": "light"
     },
     "output_type": "display_data"
    }
   ],
   "source": [
    "plt.plot(modelgrid.cv_results_['param_alpha'], modelgrid.cv_results_['mean_test_score'])\n",
    "plt.xlabel('Regularizer parameter')\n",
    "plt.ylabel('MSE')\n",
    "plt.title(\"CV Curve\")"
   ]
  },
  {
   "cell_type": "markdown",
   "metadata": {},
   "source": [
    "**(c) Use elastic net to select variables. Report the fitted model (i.e., the parameters selected\n",
    "and their coefficient). Use 5-fold cross validation to select the regularizer optimal parameter.**"
   ]
  },
  {
   "cell_type": "code",
   "execution_count": 110,
   "metadata": {},
   "outputs": [
    {
     "name": "stdout",
     "output_type": "stream",
     "text": [
      "Best Parameter: {'alpha': 0.01}\n",
      "Best MSE: -77301718699.47983\n",
      "Best Residual Sum of squares: -60372642304293.74\n"
     ]
    }
   ],
   "source": [
    "elastic = ElasticNet(normalize = True)\n",
    "modelgrid = GridSearchCV(estimator=elastic, param_grid={'alpha':np.arange(0.01,10,0.01)}, cv=5, scoring='neg_mean_squared_error')\n",
    "\n",
    "# print(f\"Intercept: {model_grid}\")\n",
    "modelgrid.fit(X,y)\n",
    "\n",
    "print(f\"Best Parameter: {modelgrid.best_params_}\")\n",
    "print(f\"Best MSE: {modelgrid.best_score_}\")\n",
    "print(f\"Best Residual Sum of squares: {modelgrid.best_score_ * len(data)}\")"
   ]
  },
  {
   "cell_type": "code",
   "execution_count": 111,
   "metadata": {},
   "outputs": [
    {
     "name": "stdout",
     "output_type": "stream",
     "text": [
      "Best Ridge Model Intercept: -453919.8216805881\n",
      "Best Ridge Model Coefficients: [-10944.60538437  15476.89069166    251.00352397   1837.22695388\n",
      "   6261.70770562  34847.54081836  -4261.78467586]\n"
     ]
    }
   ],
   "source": [
    "best = Lasso(normalize = True, alpha = modelgrid.best_params_['alpha']).fit(X,y)\n",
    "print(f\"Best Ridge Model Intercept: {best.intercept_}\")\n",
    "print(f\"Best Ridge Model Coefficients: {best.coef_}\")"
   ]
  },
  {
   "cell_type": "code",
   "execution_count": 112,
   "metadata": {},
   "outputs": [
    {
     "data": {
      "text/plain": [
       "Text(0.5, 1.0, 'CV Curve')"
      ]
     },
     "execution_count": 112,
     "metadata": {},
     "output_type": "execute_result"
    },
    {
     "data": {
      "image/png": "[encoded data removed]",
      "text/plain": [
       "<Figure size 432x288 with 1 Axes>"
      ]
     },
     "metadata": {
      "needs_background": "light"
     },
     "output_type": "display_data"
    }
   ],
   "source": [
    "plt.plot(modelgrid.cv_results_['param_alpha'], modelgrid.cv_results_['mean_test_score'])\n",
    "plt.xlabel('Regularizer parameter')\n",
    "plt.ylabel('MSE')\n",
    "plt.title(\"CV Curve\")"
   ]
  },
  {
   "cell_type": "markdown",
   "metadata": {},
   "source": [
    "The Lasso reconstruction is the best reconstruciton, as we can see that it eliminates the most noise."
   ]
  },
  {
   "cell_type": "markdown",
   "metadata": {},
   "source": [
    "# 4. Locally weighted linear regression and bias-variance tradeoff. "
   ]
  },
  {
   "cell_type": "markdown",
   "metadata": {},
   "source": [
    "Consider a dataset with n data points $(x_i, y_i), x_i ∈ R^p$, following the following linear model\n",
    "\n",
    "$$y_i = β*^T x_i + \\epsilon_i, i = 1, . . . , n, $$\n",
    "\n",
    "where $\\epsilon_i ∼ N (0, \\sigma_i^2)$ are independent (but not identically distributed) Gaussian noise with zero mean\n",
    "and variance $\\sigma_i^2$.\n"
   ]
  },
  {
   "cell_type": "markdown",
   "metadata": {},
   "source": [
    "**(a) Show that the ridge regression which introduces a squared $l_2$ norm penalty on the\n",
    "parameter in the maximum likelihood estimate of β can be written as follows**\n",
    "\n",
    "$$ \\hat{\\beta}(\\lambda) = argmin \\big\\{ (X\\beta - y)^T W(X\\beta - y) + \\lambda ||\\beta||_2^2 \\big\\} $$\n",
    "\t\n",
    "**for property defined diagonal matrix W, matrix X and vector y.**"
   ]
  },
  {
   "cell_type": "markdown",
   "metadata": {},
   "source": [
    "For ridge regression, we need to minimize the likelihood function, subject to an additional constraint. This restraint can be written as:\n",
    "    $$ \\hat{\\beta}(\\lambda) = minimize \\sum_{i=1}^m W (y^i - \\beta^Tx^i)^2 + \\lambda \\sum_{j=1}^p\\beta_j^2 $$\n",
    "\n",
    "$$ = minimize \\sum_{i=1}^m W (y^i - \\beta^Tx^i)^2 + \\lambda||\\beta||_2^2 $$\n",
    "\n",
    "$$ = minimize \\sum_{i=1}^m (y^i - X\\beta)^T W (y^i - X\\beta) + \\lambda||\\beta||_2^2 $$"
   ]
  },
  {
   "cell_type": "markdown",
   "metadata": {},
   "source": [
    "**(b)  Find the close-form solution for βb(λ) and its distribution conditioning on {xi}.**"
   ]
  },
  {
   "cell_type": "markdown",
   "metadata": {},
   "source": [
    "By taking the derivative of the above with respect to $\\beta$, we get:\n",
    "\n",
    "$$ \\frac{\\partial\\hat{\\beta}(\\lambda)}{\\partial\\beta} = -2X^T(y - X\\beta) + 1\\lambda\\beta $$\n",
    "\n",
    "This simplifies to:\n",
    "\n",
    "$$ \\hat{\\beta}(\\lambda) = (X^T X + \\lambda I)^{-1} X^Ty $$"
   ]
  },
  {
   "cell_type": "markdown",
   "metadata": {},
   "source": [
    "**(c)  Derive the bias as a function of λ and some fixed test point x.**"
   ]
  },
  {
   "cell_type": "markdown",
   "metadata": {},
   "source": [
    "We can write the bias, $E[ \\hat{\\beta}(\\lambda)^T x] - (\\beta^*)^Tx $, as:\n",
    "\n",
    "$$ (X^TX + \\lambda I)^{-1} X^TX\\beta $$\n",
    "\n",
    "Which can be simplified to:\n",
    "$$ = \\beta - \\lambda(X^TX + \\lambda I) ^{-1} \\beta $$"
   ]
  },
  {
   "cell_type": "markdown",
   "metadata": {},
   "source": [
    "**(d) Derive the variance term as a function of λ.**"
   ]
  },
  {
   "cell_type": "markdown",
   "metadata": {},
   "source": [
    "From the $E[\\hat\\beta]$ calculated in Q 4b and the definitions that $Var[x]= E[x^2]−E[x]^2$, we get the following:\n",
    "\n",
    "$$ Var = \\sigma^2 ( X^TX + \\lambda I)^{-1} (X^TX)(X^TX + \\lambda)^{-1} $$"
   ]
  },
  {
   "cell_type": "code",
   "execution_count": null,
   "metadata": {},
   "outputs": [],
   "source": []
  }
 ],
 "metadata": {
  "kernelspec": {
   "display_name": "Python 3",
   "language": "python",
   "name": "python3"
  },
  "language_info": {
   "codemirror_mode": {
    "name": "ipython",
    "version": 3
   },
   "file_extension": ".py",
   "mimetype": "text/x-python",
   "name": "python",
   "nbconvert_exporter": "python",
   "pygments_lexer": "ipython3",
   "version": "3.7.3"
  }
 },
 "nbformat": 4,
 "nbformat_minor": 4
}
