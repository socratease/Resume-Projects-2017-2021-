{
 "cells": [
  {
   "cell_type": "markdown",
   "metadata": {},
   "source": [
    "# 2. Implementing AdaBoost."
   ]
  },
  {
   "cell_type": "markdown",
   "metadata": {},
   "source": [
    "Consider the following dataset, plotting in the following figure. The first two coordinates represent the\n",
    "value of two features, and the last coordinate is the binary label of the data.\n",
    "\n",
    "$$X1 = (−1, 0, +1), X2 = (−0.5, 0.5, +1), X3 = (0, 1, −1), X4 = (0.5, 1, −1)$$\n",
    "$$X5 = (1, 0, +1), X6 = (1, −1, +1), X7 = (0, −1, −1), X8 = (0, 0, −1).$$\n",
    "\n",
    "In this problem, you will run through T = 3 iterations of AdaBoost with decision stumps (as explained\n",
    "in the lecture) as weak learners.\n"
   ]
  },
  {
   "attachments": {
    "image.png": {
     "image/png": "[encoded data removed]"
    }
   },
   "cell_type": "markdown",
   "metadata": {},
   "source": [
    "![image.png](attachment:image.png)"
   ]
  },
  {
   "cell_type": "markdown",
   "metadata": {},
   "source": [
    "**(a) For each iteration t = 1, 2, 3, compute $\\epsilon_t$, $α_t$, $Z_t$, $D_t$ by hand (i.e., show the calculation\n",
    "steps) and draw the decision stumps on the figure.**"
   ]
  },
  {
   "cell_type": "markdown",
   "metadata": {},
   "source": [
    "*Please note: All calculations are performed in the code. Since the homework requirements specify to not show code cells, only output, the grader will need to view the code to see the work. Or, view the copy/pasted code below:\n",
    "\n",
    "points = [(-1,0), (-.5,.5), (0,1), (.5,1), (1,0), (1,-1), (0,-1), (0,0)]\n",
    "labels = np.array( [1,1,-1,-1,1,1,-1,-1] )\n",
    "\n",
    "stump1 = np.array( [-1 if x[0] < 1 else 1 for x in points] )\n",
    "\n",
    "D1 = np.array( [1/8]*8 )\n",
    "\n",
    "eps1 = D1 * (stump1!=labels)\n",
    "eps1 = eps1.sum()\n",
    "\n",
    "a1 = 1/2 * (np.log((1-eps1)/eps1))\n",
    "\n",
    "D2top = D1 * np.exp(-a1*labels*stump1)\n",
    "Z1 = D2top.sum()\n",
    "\n",
    "D2 = D2top / Z1\n",
    "\n",
    "\n",
    "stump2 = np.array( [1 if x[1] < 1 else -1 for x in points] )\n",
    "\n",
    "eps2 = D2 * (stump2!=labels)\n",
    "eps2 = eps2.sum()\n",
    "\n",
    "a2 = 1/2 * (np.log((1-eps2)/eps2))\n",
    "\n",
    "D3top = D2 * np.exp(-a2*labels*stump2)\n",
    "Z2 = D3top.sum()\n",
    "\n",
    "D3 = D3top / Z2\n",
    "\n",
    "stump3 = np.array( [1 if x[0] < 1 else -1 for x in points] )\n",
    "\n",
    "eps3 = D3 * (stump3!=labels)\n",
    "eps3 = eps3.sum()\n",
    "\n",
    "a3 = 1/3 * (np.log((1-eps3)/eps3))\n",
    "\n",
    "D4top = D3 * np.exp(-a3*labels*stump3)\n",
    "Z3 = D4top.sum()\n",
    "\n",
    "D4 = D4top / Z3\n"
   ]
  },
  {
   "cell_type": "code",
   "execution_count": 99,
   "metadata": {},
   "outputs": [],
   "source": [
    "points = [(-1,0), (-.5,.5), (0,1), (.5,1), (1,0), (1,-1), (0,-1), (0,0)]\n",
    "labels = np.array( [1,1,-1,-1,1,1,-1,-1] )\n"
   ]
  },
  {
   "cell_type": "code",
   "execution_count": 100,
   "metadata": {},
   "outputs": [],
   "source": [
    "stump1 = np.array( [-1 if x[0] < 1 else 1 for x in points] )\n"
   ]
  },
  {
   "cell_type": "markdown",
   "metadata": {},
   "source": [
    "Calculating $D_t = 1/m$"
   ]
  },
  {
   "cell_type": "code",
   "execution_count": 24,
   "metadata": {},
   "outputs": [
    {
     "data": {
      "text/plain": [
       "array([0.125, 0.125, 0.125, 0.125, 0.125, 0.125, 0.125, 0.125])"
      ]
     },
     "execution_count": 24,
     "metadata": {},
     "output_type": "execute_result"
    }
   ],
   "source": [
    "D1 = np.array( [1/8]*8 )\n",
    "D1"
   ]
  },
  {
   "cell_type": "markdown",
   "metadata": {},
   "source": [
    "Calculating $\\epsilon_t = \\sum_{i=1}^m D_t(i) \\{ y^i \\neq h_t(x^i) \\}$"
   ]
  },
  {
   "cell_type": "code",
   "execution_count": 20,
   "metadata": {},
   "outputs": [
    {
     "data": {
      "text/plain": [
       "0.25"
      ]
     },
     "execution_count": 20,
     "metadata": {},
     "output_type": "execute_result"
    }
   ],
   "source": [
    "eps1 = D1 * (stump1!=labels)\n",
    "eps1 = eps1.sum()\n",
    "eps1"
   ]
  },
  {
   "cell_type": "markdown",
   "metadata": {},
   "source": [
    "Calculating $\\alpha_t = 1/2 \\ln (\\frac{1-\\epsilon_t}{\\epsilon_t})$"
   ]
  },
  {
   "cell_type": "code",
   "execution_count": 25,
   "metadata": {},
   "outputs": [
    {
     "data": {
      "text/plain": [
       "0.5493061443340549"
      ]
     },
     "execution_count": 25,
     "metadata": {},
     "output_type": "execute_result"
    }
   ],
   "source": [
    "a1 = 1/2 * (np.log((1-eps1)/eps1))\n",
    "a1"
   ]
  },
  {
   "cell_type": "markdown",
   "metadata": {},
   "source": [
    "Calculating $Z_t = \\sum_{i=1}^m D_t(i) e^{-\\alpha_t y^i h_t(x^i)}$"
   ]
  },
  {
   "cell_type": "code",
   "execution_count": 29,
   "metadata": {},
   "outputs": [
    {
     "data": {
      "text/plain": [
       "0.8660254037844386"
      ]
     },
     "execution_count": 29,
     "metadata": {},
     "output_type": "execute_result"
    }
   ],
   "source": [
    "D2top = D1 * np.exp(-a1*labels*stump1)\n",
    "Z1 = D2top.sum()\n",
    "Z1"
   ]
  },
  {
   "cell_type": "code",
   "execution_count": 34,
   "metadata": {},
   "outputs": [
    {
     "name": "stdout",
     "output_type": "stream",
     "text": [
      "First iteration\n",
      "Epsilon: 0.16666666666666666, alpha: 0.8047189562170503, Z: 0.74535599249993\n",
      "D2: [0.15 0.15 0.05 0.05 0.05 0.05 0.25 0.25]\n"
     ]
    }
   ],
   "source": [
    "D2 = D2top / Z1\n",
    "D2\n",
    "\n",
    "print(\"First iteration\")\n",
    "print(f\"Epsilon: {eps2}, alpha: {a2}, Z: {Z2}\")\n",
    "print(f\"D2: {D3}\")"
   ]
  },
  {
   "cell_type": "markdown",
   "metadata": {},
   "source": [
    "Second Iteration"
   ]
  },
  {
   "cell_type": "code",
   "execution_count": 33,
   "metadata": {},
   "outputs": [
    {
     "name": "stdout",
     "output_type": "stream",
     "text": [
      "Second iteration\n",
      "Epsilon: 0.16666666666666666, alpha: 0.8047189562170503, Z: 0.74535599249993\n",
      "D3: [0.15 0.15 0.05 0.05 0.05 0.05 0.25 0.25]\n"
     ]
    }
   ],
   "source": [
    "stump2 = np.array( [1 if x[1] < 1 else -1 for x in points] )\n",
    "\n",
    "eps2 = D2 * (stump2!=labels)\n",
    "eps2 = eps2.sum()\n",
    "\n",
    "a2 = 1/2 * (np.log((1-eps2)/eps2))\n",
    "\n",
    "D3top = D2 * np.exp(-a2*labels*stump2)\n",
    "Z2 = D3top.sum()\n",
    "\n",
    "D3 = D3top / Z2\n",
    "\n",
    "print(\"Second iteration\")\n",
    "print(f\"Epsilon: {eps2}, alpha: {a2}, Z: {Z2}\")\n",
    "print(f\"D3: {D3}\")"
   ]
  },
  {
   "cell_type": "markdown",
   "metadata": {},
   "source": [
    "Second Iteration"
   ]
  },
  {
   "cell_type": "code",
   "execution_count": 36,
   "metadata": {},
   "outputs": [
    {
     "name": "stdout",
     "output_type": "stream",
     "text": [
      "Second iteration\n",
      "Epsilon: 0.6999999999999998, alpha: -0.2824326201290676, Z: 0.9256689295800469\n",
      "D4: [0.21492874 0.21492874 0.04072447 0.04072447 0.04072447 0.04072447\n",
      " 0.20362233 0.20362233]\n"
     ]
    }
   ],
   "source": [
    "stump3 = np.array( [1 if x[0] < 1 else -1 for x in points] )\n",
    "\n",
    "eps3 = D3 * (stump3!=labels)\n",
    "eps3 = eps3.sum()\n",
    "\n",
    "a3 = 1/3 * (np.log((1-eps3)/eps3))\n",
    "\n",
    "D4top = D3 * np.exp(-a3*labels*stump3)\n",
    "Z3 = D4top.sum()\n",
    "\n",
    "D4 = D4top / Z3\n",
    "\n",
    "print(\"Second iteration\")\n",
    "print(f\"Epsilon: {eps3}, alpha: {a3}, Z: {Z3}\")\n",
    "print(f\"D4: {D4}\")"
   ]
  },
  {
   "cell_type": "code",
   "execution_count": 47,
   "metadata": {
    "scrolled": true
   },
   "outputs": [
    {
     "name": "stdout",
     "output_type": "stream",
     "text": [
      "Summary Table\n"
     ]
    },
    {
     "data": {
      "text/html": [
       "<div>\n",
       "<style scoped>\n",
       "    .dataframe tbody tr th:only-of-type {\n",
       "        vertical-align: middle;\n",
       "    }\n",
       "\n",
       "    .dataframe tbody tr th {\n",
       "        vertical-align: top;\n",
       "    }\n",
       "\n",
       "    .dataframe thead th {\n",
       "        text-align: right;\n",
       "    }\n",
       "</style>\n",
       "<table border=\"1\" class=\"dataframe\">\n",
       "  <thead>\n",
       "    <tr style=\"text-align: right;\">\n",
       "      <th></th>\n",
       "      <th>Dt1</th>\n",
       "      <th>Dt2</th>\n",
       "      <th>Dt3</th>\n",
       "      <th>Dt4</th>\n",
       "      <th>Dt5</th>\n",
       "      <th>Dt6</th>\n",
       "      <th>Dt7</th>\n",
       "      <th>Dt8</th>\n",
       "      <th>e</th>\n",
       "      <th>a</th>\n",
       "      <th>Z</th>\n",
       "      <th>Iteration</th>\n",
       "    </tr>\n",
       "  </thead>\n",
       "  <tbody>\n",
       "    <tr>\n",
       "      <th>0</th>\n",
       "      <td>0.125</td>\n",
       "      <td>0.125</td>\n",
       "      <td>0.125000</td>\n",
       "      <td>0.125000</td>\n",
       "      <td>0.125000</td>\n",
       "      <td>0.125000</td>\n",
       "      <td>0.125000</td>\n",
       "      <td>0.125000</td>\n",
       "      <td>0.250000</td>\n",
       "      <td>0.549306</td>\n",
       "      <td>0.866025</td>\n",
       "      <td>1.0</td>\n",
       "    </tr>\n",
       "    <tr>\n",
       "      <th>1</th>\n",
       "      <td>0.250</td>\n",
       "      <td>0.250</td>\n",
       "      <td>0.083333</td>\n",
       "      <td>0.083333</td>\n",
       "      <td>0.083333</td>\n",
       "      <td>0.083333</td>\n",
       "      <td>0.083333</td>\n",
       "      <td>0.083333</td>\n",
       "      <td>0.166667</td>\n",
       "      <td>0.804719</td>\n",
       "      <td>0.745356</td>\n",
       "      <td>2.0</td>\n",
       "    </tr>\n",
       "    <tr>\n",
       "      <th>2</th>\n",
       "      <td>0.150</td>\n",
       "      <td>0.150</td>\n",
       "      <td>0.050000</td>\n",
       "      <td>0.050000</td>\n",
       "      <td>0.050000</td>\n",
       "      <td>0.050000</td>\n",
       "      <td>0.250000</td>\n",
       "      <td>0.250000</td>\n",
       "      <td>0.700000</td>\n",
       "      <td>-0.282433</td>\n",
       "      <td>0.925669</td>\n",
       "      <td>3.0</td>\n",
       "    </tr>\n",
       "  </tbody>\n",
       "</table>\n",
       "</div>"
      ],
      "text/plain": [
       "     Dt1    Dt2       Dt3       Dt4       Dt5       Dt6       Dt7       Dt8  \\\n",
       "0  0.125  0.125  0.125000  0.125000  0.125000  0.125000  0.125000  0.125000   \n",
       "1  0.250  0.250  0.083333  0.083333  0.083333  0.083333  0.083333  0.083333   \n",
       "2  0.150  0.150  0.050000  0.050000  0.050000  0.050000  0.250000  0.250000   \n",
       "\n",
       "          e         a         Z  Iteration  \n",
       "0  0.250000  0.549306  0.866025        1.0  \n",
       "1  0.166667  0.804719  0.745356        2.0  \n",
       "2  0.700000 -0.282433  0.925669        3.0  "
      ]
     },
     "execution_count": 47,
     "metadata": {},
     "output_type": "execute_result"
    }
   ],
   "source": [
    "row1 = np.append(D1, [eps1, a1, Z1, 1])\n",
    "row2 = np.append(D2, [eps2, a2, Z2, 2])\n",
    "row3 = np.append(D3, [eps3, a3, Z3, 3])\n",
    "\n",
    "names = ['Dt1', 'Dt2', 'Dt3', 'Dt4', 'Dt5', 'Dt6', 'Dt7', 'Dt8', 'e', 'a', 'Z', 'Iteration']\n",
    "tab = np.stack([row1, row2, row3])\n",
    "\n",
    "table = pd.DataFrame(tab, columns = names)\n",
    "\n",
    "print(\"Summary Table\")\n",
    "table\n",
    "\n",
    "\n"
   ]
  },
  {
   "cell_type": "markdown",
   "metadata": {},
   "source": [
    "**(b) What is the training error of this AdaBoost? Give a short explanation for why\n",
    "AdaBoost outperforms a single decision stump.**"
   ]
  },
  {
   "cell_type": "code",
   "execution_count": 52,
   "metadata": {},
   "outputs": [
    {
     "data": {
      "text/plain": [
       "0.75"
      ]
     },
     "execution_count": 52,
     "metadata": {},
     "output_type": "execute_result"
    }
   ],
   "source": [
    "predictions = np.sign(a1*stump1 + a2*stump2 + a3*stump3)\n",
    "predictions\n",
    "\n",
    "accuracy = (predictions==labels).sum() / 8\n",
    "accuracy"
   ]
  },
  {
   "cell_type": "markdown",
   "metadata": {},
   "source": [
    "The training error is 25%, though by picking better stumps (or more stumps) we could probably quickly improve that. The algorithm outperforms single decision stumps because as it iterates, it places more weight on mis-classified data points, which allows Ada boost to find good local classifiers for certain areas of the data, while maintaining the valuable information gain from previous attempts."
   ]
  },
  {
   "cell_type": "markdown",
   "metadata": {},
   "source": [
    "The Lasso reconstruction is the best reconstruciton, as we can see that it eliminates the most noise."
   ]
  }
 ],
 "metadata": {
  "kernelspec": {
   "display_name": "Python 3",
   "language": "python",
   "name": "python3"
  },
  "language_info": {
   "codemirror_mode": {
    "name": "ipython",
    "version": 3
   },
   "file_extension": ".py",
   "mimetype": "text/x-python",
   "name": "python",
   "nbconvert_exporter": "python",
   "pygments_lexer": "ipython3",
   "version": "3.7.3"
  }
 },
 "nbformat": 4,
 "nbformat_minor": 4
}
